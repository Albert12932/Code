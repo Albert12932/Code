{
 "cells": [
  {
   "cell_type": "code",
   "execution_count": 1,
   "metadata": {},
   "outputs": [],
   "source": [
    "import psycopg2\n",
    "import pandas as pd"
   ]
  },
  {
   "cell_type": "code",
   "execution_count": 44,
   "metadata": {},
   "outputs": [],
   "source": [
    "conn = psycopg2.connect(\n",
    "    dbname=\"startml\",\n",
    "    user=\"robot-startml-ro\",\n",
    "    password=\"pheiph0hahj1Vaif\",\n",
    "    host=\"postgres.lab.karpov.courses\",\n",
    "    port=6432\n",
    ")\n",
    "\n",
    "cur = conn.cursor()\n"
   ]
  },
  {
   "cell_type": "code",
   "execution_count": 31,
   "metadata": {},
   "outputs": [],
   "source": [
    "df = pd.read_sql(\n",
    " \"\"\"SELECT * FROM \"post\" LIMIT 10 \"\"\",\n",
    " con=\"postgresql://robot-startml-ro:pheiph0hahj1Vaif@\"\n",
    " \"postgres.lab.karpov.courses:6432/startml\"\n",
    ")"
   ]
  },
  {
   "cell_type": "code",
   "execution_count": 32,
   "metadata": {},
   "outputs": [
    {
     "data": {
      "text/html": [
       "<div>\n",
       "<style scoped>\n",
       "    .dataframe tbody tr th:only-of-type {\n",
       "        vertical-align: middle;\n",
       "    }\n",
       "\n",
       "    .dataframe tbody tr th {\n",
       "        vertical-align: top;\n",
       "    }\n",
       "\n",
       "    .dataframe thead th {\n",
       "        text-align: right;\n",
       "    }\n",
       "</style>\n",
       "<table border=\"1\" class=\"dataframe\">\n",
       "  <thead>\n",
       "    <tr style=\"text-align: right;\">\n",
       "      <th></th>\n",
       "      <th>id</th>\n",
       "      <th>text</th>\n",
       "      <th>topic</th>\n",
       "    </tr>\n",
       "  </thead>\n",
       "  <tbody>\n",
       "    <tr>\n",
       "      <th>0</th>\n",
       "      <td>1</td>\n",
       "      <td>UK economy facing major risks\\n\\nThe UK manufa...</td>\n",
       "      <td>business</td>\n",
       "    </tr>\n",
       "    <tr>\n",
       "      <th>1</th>\n",
       "      <td>2</td>\n",
       "      <td>Aids and climate top Davos agenda\\n\\nClimate c...</td>\n",
       "      <td>business</td>\n",
       "    </tr>\n",
       "    <tr>\n",
       "      <th>2</th>\n",
       "      <td>3</td>\n",
       "      <td>Asian quake hits European shares\\n\\nShares in ...</td>\n",
       "      <td>business</td>\n",
       "    </tr>\n",
       "    <tr>\n",
       "      <th>3</th>\n",
       "      <td>4</td>\n",
       "      <td>India power shares jump on debut\\n\\nShares in ...</td>\n",
       "      <td>business</td>\n",
       "    </tr>\n",
       "    <tr>\n",
       "      <th>4</th>\n",
       "      <td>5</td>\n",
       "      <td>Lacroix label bought by US firm\\n\\nLuxury good...</td>\n",
       "      <td>business</td>\n",
       "    </tr>\n",
       "  </tbody>\n",
       "</table>\n",
       "</div>"
      ],
      "text/plain": [
       "   id                                               text     topic\n",
       "0   1  UK economy facing major risks\\n\\nThe UK manufa...  business\n",
       "1   2  Aids and climate top Davos agenda\\n\\nClimate c...  business\n",
       "2   3  Asian quake hits European shares\\n\\nShares in ...  business\n",
       "3   4  India power shares jump on debut\\n\\nShares in ...  business\n",
       "4   5  Lacroix label bought by US firm\\n\\nLuxury good...  business"
      ]
     },
     "execution_count": 32,
     "metadata": {},
     "output_type": "execute_result"
    }
   ],
   "source": [
    "df.head(5)"
   ]
  },
  {
   "cell_type": "code",
   "execution_count": 51,
   "metadata": {},
   "outputs": [
    {
     "name": "stderr",
     "output_type": "stream",
     "text": [
      "C:\\Users\\shoma\\AppData\\Local\\Temp\\ipykernel_5004\\1245129469.py:1: UserWarning: pandas only supports SQLAlchemy connectable (engine/connection) or database string URI or sqlite3 DBAPI2 connection. Other DBAPI2 objects are not tested. Please consider using SQLAlchemy.\n",
      "  df = pd.read_sql(\n"
     ]
    },
    {
     "data": {
      "text/html": [
       "<div>\n",
       "<style scoped>\n",
       "    .dataframe tbody tr th:only-of-type {\n",
       "        vertical-align: middle;\n",
       "    }\n",
       "\n",
       "    .dataframe tbody tr th {\n",
       "        vertical-align: top;\n",
       "    }\n",
       "\n",
       "    .dataframe thead th {\n",
       "        text-align: right;\n",
       "    }\n",
       "</style>\n",
       "<table border=\"1\" class=\"dataframe\">\n",
       "  <thead>\n",
       "    <tr style=\"text-align: right;\">\n",
       "      <th></th>\n",
       "      <th>post_id</th>\n",
       "      <th>count</th>\n",
       "      <th>max</th>\n",
       "      <th>text</th>\n",
       "    </tr>\n",
       "  </thead>\n",
       "  <tbody>\n",
       "    <tr>\n",
       "      <th>0</th>\n",
       "      <td>4866</td>\n",
       "      <td>31714</td>\n",
       "      <td>2022-01-01 13:57:43</td>\n",
       "      <td>It could have been a morbidly fascinating look...</td>\n",
       "    </tr>\n",
       "    <tr>\n",
       "      <th>1</th>\n",
       "      <td>5127</td>\n",
       "      <td>29637</td>\n",
       "      <td>2022-01-05 13:52:17</td>\n",
       "      <td>Ive seen NSNA just after Ive seen all Roger Mo...</td>\n",
       "    </tr>\n",
       "    <tr>\n",
       "      <th>2</th>\n",
       "      <td>6448</td>\n",
       "      <td>27939</td>\n",
       "      <td>2022-01-22 05:50:39</td>\n",
       "      <td>No, Im not joking around. If you ever, EVER, h...</td>\n",
       "    </tr>\n",
       "    <tr>\n",
       "      <th>3</th>\n",
       "      <td>6498</td>\n",
       "      <td>27729</td>\n",
       "      <td>2022-01-22 21:45:11</td>\n",
       "      <td>As a matter of fact, this is one of those movi...</td>\n",
       "    </tr>\n",
       "    <tr>\n",
       "      <th>4</th>\n",
       "      <td>6513</td>\n",
       "      <td>27686</td>\n",
       "      <td>2022-01-22 19:59:52</td>\n",
       "      <td>Rita Hayworth plays a Brooklyn nightclub dance...</td>\n",
       "    </tr>\n",
       "  </tbody>\n",
       "</table>\n",
       "</div>"
      ],
      "text/plain": [
       "   post_id  count                 max  \\\n",
       "0     4866  31714 2022-01-01 13:57:43   \n",
       "1     5127  29637 2022-01-05 13:52:17   \n",
       "2     6448  27939 2022-01-22 05:50:39   \n",
       "3     6498  27729 2022-01-22 21:45:11   \n",
       "4     6513  27686 2022-01-22 19:59:52   \n",
       "\n",
       "                                                text  \n",
       "0  It could have been a morbidly fascinating look...  \n",
       "1  Ive seen NSNA just after Ive seen all Roger Mo...  \n",
       "2  No, Im not joking around. If you ever, EVER, h...  \n",
       "3  As a matter of fact, this is one of those movi...  \n",
       "4  Rita Hayworth plays a Brooklyn nightclub dance...  "
      ]
     },
     "execution_count": 51,
     "metadata": {},
     "output_type": "execute_result"
    }
   ],
   "source": [
    "df = pd.read_sql(\n",
    " \"\"\"select id as post_id, count(action), max(time), text from feed_action join post on post_id = id where action = 'like' group by id, text order by count(action) desc limit 5\n",
    " \"\"\",\n",
    " con=conn\n",
    ")\n",
    "df.head(10)"
   ]
  }
 ],
 "metadata": {
  "kernelspec": {
   "display_name": "Python 3",
   "language": "python",
   "name": "python3"
  },
  "language_info": {
   "codemirror_mode": {
    "name": "ipython",
    "version": 3
   },
   "file_extension": ".py",
   "mimetype": "text/x-python",
   "name": "python",
   "nbconvert_exporter": "python",
   "pygments_lexer": "ipython3",
   "version": "3.11.8"
  }
 },
 "nbformat": 4,
 "nbformat_minor": 2
}
